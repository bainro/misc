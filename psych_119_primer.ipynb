{
  "nbformat": 4,
  "nbformat_minor": 0,
  "metadata": {
    "colab": {
      "provenance": [],
      "authorship_tag": "ABX9TyMiJB7sWy+6lpB9FKBqvmCD",
      "include_colab_link": true
    },
    "kernelspec": {
      "name": "python3",
      "display_name": "Python 3"
    },
    "language_info": {
      "name": "python"
    }
  },
  "cells": [
    {
      "cell_type": "markdown",
      "metadata": {
        "id": "view-in-github",
        "colab_type": "text"
      },
      "source": [
        "<a href=\"https://colab.research.google.com/github/bainro/misc/blob/main/psych_119_primer.ipynb\" target=\"_parent\"><img src=\"https://colab.research.google.com/assets/colab-badge.svg\" alt=\"Open In Colab\"/></a>"
      ]
    },
    {
      "cell_type": "markdown",
      "source": [
        "Welcome to Google Collaboratory (i.e. Colab) Notebooks! You're reading a text cell right now. You can make a new text cell with the \"+ Text\" button near the top left. Below this is a code cell. You can run it by clicking the play/arrow button that appears when you hover over it. The resulting output will show up below the cell. You can also run all the cells from top to bottom using the \"Runtime\" dropdown at the top of the page (near File, Edit, etc)."
      ],
      "metadata": {
        "id": "p3RRDXP3ltSB"
      }
    },
    {
      "cell_type": "code",
      "source": [
        "print(\"hello world\")"
      ],
      "metadata": {
        "colab": {
          "base_uri": "https://localhost:8080/"
        },
        "id": "wDdT2Zu3mDVS",
        "outputId": "302a27bd-684b-4317-9684-3bc8b309070a"
      },
      "execution_count": 2,
      "outputs": [
        {
          "output_type": "stream",
          "name": "stdout",
          "text": [
            "hello world\n"
          ]
        }
      ]
    },
    {
      "cell_type": "markdown",
      "source": [
        "We can download python modules much like you would on your own computer, but we must proceed \"pip install X\" with the \"%\" symbol. This causes jupyter notebook style editors to treat your code as something to be run by your operating system (eg Windows, Mac OS, Linux, etc) instead of treating by python, which is the default behavior."
      ],
      "metadata": {
        "id": "O6B015V6jrI9"
      }
    },
    {
      "cell_type": "code",
      "execution_count": 3,
      "metadata": {
        "colab": {
          "base_uri": "https://localhost:8080/"
        },
        "id": "4ALXRkuLjV0_",
        "outputId": "f818b278-16c2-4956-bcee-ae9b2644cb8b"
      },
      "outputs": [
        {
          "output_type": "stream",
          "name": "stdout",
          "text": [
            "Requirement already satisfied: numpy in /usr/local/lib/python3.10/dist-packages (1.23.5)\n",
            "Requirement already satisfied: pandas in /usr/local/lib/python3.10/dist-packages (1.5.3)\n",
            "Requirement already satisfied: python-dateutil>=2.8.1 in /usr/local/lib/python3.10/dist-packages (from pandas) (2.8.2)\n",
            "Requirement already satisfied: pytz>=2020.1 in /usr/local/lib/python3.10/dist-packages (from pandas) (2023.3.post1)\n",
            "Requirement already satisfied: numpy>=1.21.0 in /usr/local/lib/python3.10/dist-packages (from pandas) (1.23.5)\n",
            "Requirement already satisfied: six>=1.5 in /usr/local/lib/python3.10/dist-packages (from python-dateutil>=2.8.1->pandas) (1.16.0)\n"
          ]
        }
      ],
      "source": [
        "%pip install numpy\n",
        "%pip install pandas"
      ]
    },
    {
      "cell_type": "markdown",
      "source": [
        "Now that we've downloaded numpy and pandas onto the operating system, all we have to do now to use them is run an import command in python, like so:"
      ],
      "metadata": {
        "id": "faisC3kikeD2"
      }
    },
    {
      "cell_type": "code",
      "source": [
        "import numpy as np"
      ],
      "metadata": {
        "id": "AbBCweQ9jqfD"
      },
      "execution_count": 4,
      "outputs": []
    },
    {
      "cell_type": "markdown",
      "source": [
        "Note that I renamed numpy as 'np'. Let's look at a super simple use case:"
      ],
      "metadata": {
        "id": "Sry6xKf-k0Kd"
      }
    },
    {
      "cell_type": "code",
      "source": [
        "# <-- this character allows us to write comments!\n",
        "# Comments are great for code documentation and are ignored by python otherwise\n",
        "\n",
        "# Here we are creating a list of numbers, which numpy calls an array:\n",
        "numpy_test_array = np.array([1, 2, 3, 4, 5])\n",
        "# let's look at the 2nd element of this array. Note that python starts counting at 0!\n",
        "print(\"numpy_test_array's 2nd element:\", numpy_test_array[1])"
      ],
      "metadata": {
        "colab": {
          "base_uri": "https://localhost:8080/"
        },
        "id": "MtbkxBhek_Wp",
        "outputId": "8c446bd4-ff4c-4d04-d369-f25a0a98c615"
      },
      "execution_count": 7,
      "outputs": [
        {
          "output_type": "stream",
          "name": "stdout",
          "text": [
            "numpy_test_array's 2nd element: 2\n"
          ]
        }
      ]
    },
    {
      "cell_type": "markdown",
      "source": [
        "Let's learn some basics of the pandas python module, while also becoming familiar with the tools provided in colab.\n",
        "\n",
        "First, open the 'Files' panel on the left side of the screen. It has a folder shaped icon, and is different from the 'File' dropdown at the top of the screen.\n",
        "\n",
        "With the 'Files' panel open, you should see some sample data is already provided. We will open the 'california_housing_test.csv' file using pandas below, but you can also double click it in this panel to open another panel on the right to view it."
      ],
      "metadata": {
        "id": "717M7u3Ln26e"
      }
    },
    {
      "cell_type": "code",
      "source": [
        "# Renaming with 'as pd' is optional. It is personal preference, as it only saves space.\n",
        "import pandas as pd\n",
        "\n",
        "# load the sample_data csv file into a pandas DataFrame object:\n",
        "pandas_test_array = pd.read_csv('sample_data/california_housing_test.csv')\n",
        "print(\"pandas_test_array's data type:\", type(pandas_test_array))\n",
        "print(\"pandas_test_array:\", pandas_test_array)"
      ],
      "metadata": {
        "colab": {
          "base_uri": "https://localhost:8080/"
        },
        "id": "9_jQZNhKn7Bi",
        "outputId": "905f05ae-4535-431b-c71c-58f2941c91cb"
      },
      "execution_count": 23,
      "outputs": [
        {
          "output_type": "stream",
          "name": "stdout",
          "text": [
            "pandas_test_array's data type: <class 'pandas.core.frame.DataFrame'>\n",
            "pandas_test_array:       longitude  latitude  housing_median_age  total_rooms  total_bedrooms  \\\n",
            "0       -122.05     37.37                27.0       3885.0           661.0   \n",
            "1       -118.30     34.26                43.0       1510.0           310.0   \n",
            "2       -117.81     33.78                27.0       3589.0           507.0   \n",
            "3       -118.36     33.82                28.0         67.0            15.0   \n",
            "4       -119.67     36.33                19.0       1241.0           244.0   \n",
            "...         ...       ...                 ...          ...             ...   \n",
            "2995    -119.86     34.42                23.0       1450.0           642.0   \n",
            "2996    -118.14     34.06                27.0       5257.0          1082.0   \n",
            "2997    -119.70     36.30                10.0        956.0           201.0   \n",
            "2998    -117.12     34.10                40.0         96.0            14.0   \n",
            "2999    -119.63     34.42                42.0       1765.0           263.0   \n",
            "\n",
            "      population  households  median_income  median_house_value  \n",
            "0         1537.0       606.0         6.6085            344700.0  \n",
            "1          809.0       277.0         3.5990            176500.0  \n",
            "2         1484.0       495.0         5.7934            270500.0  \n",
            "3           49.0        11.0         6.1359            330000.0  \n",
            "4          850.0       237.0         2.9375             81700.0  \n",
            "...          ...         ...            ...                 ...  \n",
            "2995      1258.0       607.0         1.1790            225000.0  \n",
            "2996      3496.0      1036.0         3.3906            237200.0  \n",
            "2997       693.0       220.0         2.2895             62000.0  \n",
            "2998        46.0        14.0         3.2708            162500.0  \n",
            "2999       753.0       260.0         8.5608            500001.0  \n",
            "\n",
            "[3000 rows x 9 columns]\n"
          ]
        }
      ]
    },
    {
      "cell_type": "markdown",
      "source": [
        "Using this same menu you can upload your own data, connect this notebook to your google drive, or download data you create to your local computer. This latter step might sometimes be necessary for uploading your assignments to canvas, alongside your notebook file which can be downloaded as an .ipynb file from the 'File' dropdown menu at the top."
      ],
      "metadata": {
        "id": "4V0xHHFYtDpM"
      }
    },
    {
      "cell_type": "markdown",
      "source": [
        "Let's see if we can find the location of the highest priced houses in this csv file:"
      ],
      "metadata": {
        "id": "-7bQhP76tNCs"
      }
    },
    {
      "cell_type": "code",
      "source": [
        "max_median_house_value = pandas_test_array['median_house_value'].max()\n",
        "max_index = pandas_test_array['median_house_value'].idxmax()\n",
        "print(\"The most expensive median house price is: \")\n",
        "print(max_median_house_value)\n",
        "print(\"This max value was in row number: \")\n",
        "print(max_index)"
      ],
      "metadata": {
        "colab": {
          "base_uri": "https://localhost:8080/"
        },
        "id": "hU9avW5YtLJG",
        "outputId": "9dedd0da-4934-4d92-95e1-29b55f1cef19"
      },
      "execution_count": 29,
      "outputs": [
        {
          "output_type": "stream",
          "name": "stdout",
          "text": [
            "The most expensive median house price is: \n",
            "500001.0\n",
            "This max value was in row number: \n",
            "42\n"
          ]
        }
      ]
    },
    {
      "cell_type": "markdown",
      "source": [
        "Now that we've found the row with the most expensive houses, let's use it to get the latitude and longitude data:"
      ],
      "metadata": {
        "id": "FV_uJ_f5u9il"
      }
    },
    {
      "cell_type": "code",
      "source": [
        "latitude = pandas_test_array['latitude'][max_index]\n",
        "print(\"latitude: \")\n",
        "print(latitude)\n",
        "\n",
        "longitude = pandas_test_array['longitude'][max_index]\n",
        "print(\"longitude: \")\n",
        "print(longitude)"
      ],
      "metadata": {
        "colab": {
          "base_uri": "https://localhost:8080/"
        },
        "id": "XhCbLAFwvJB4",
        "outputId": "849e8131-2559-48b3-d0af-6a4ad07beaff"
      },
      "execution_count": 38,
      "outputs": [
        {
          "output_type": "stream",
          "name": "stdout",
          "text": [
            "latitude: \n",
            "34.15\n",
            "longitude: \n",
            "-118.06\n"
          ]
        }
      ]
    },
    {
      "cell_type": "markdown",
      "source": [
        "Hey, that's pretty close to us here in Irvine! 😯 but this data must be pretty old if the median house price is only $500,000 ..."
      ],
      "metadata": {
        "id": "J_N2i0L9xAFR"
      }
    },
    {
      "cell_type": "markdown",
      "source": [
        "### Notebook created by Robert Bain\n",
        "[website](https://rkbain.com)\n",
        "<br/>\n",
        "<img src=\"https://rkbain.com/images/selfie.jpg\" width=\"100\" />\n",
        "<br/>\n"
      ],
      "metadata": {
        "id": "qJoMVM3jynYf"
      }
    }
  ]
}